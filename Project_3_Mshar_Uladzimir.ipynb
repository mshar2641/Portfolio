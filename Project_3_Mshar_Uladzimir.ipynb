{
  "nbformat": 4,
  "nbformat_minor": 0,
  "metadata": {
    "colab": {
      "name": "Project-3_Mshar_Uladzimir.ipynb",
      "provenance": [],
      "collapsed_sections": []
    },
    "kernelspec": {
      "name": "python3",
      "display_name": "Python 3"
    },
    "language_info": {
      "name": "python"
    }
  },
  "cells": [
    {
      "cell_type": "markdown",
      "source": [
        "<font size = 5>ЦЕЛЬ:\n",
        "<font size = 3>Исследовать поведение пользователей в обновлённом приложении.\n",
        "\n",
        "<font size = 5>ЗАДАЧИ:\n",
        "<font size = 3>В рамках проверки гипотез вам необходимо решить три задачи:\n",
        "\n",
        " \n",
        "- Определить, насколько обучение сокращает время прохождения этапов игры.\n",
        "- Доказать, что успешное обучение само по себе влияет на оплату и не имеет значения то, каким этапом оно шло.\n",
        "- Определить, насколько прозрачен процесс взаимодействия с игрой.\n",
        "\n",
        "<font size = 5>КОНКРЕТНЫЕ ШАГИ (ФОРМАЛИЗОВАННЫЕ ЗАДАЧИ):\n",
        "\n",
        "<font size = 3>\n",
        "\n",
        "1. Сравнить время прохождения различных этапов для пользователей, которые завершили обучение, и пользователей, не начинавших обучение. Если показатель отличается, выяснить, насколько. \n",
        "2. Проверить, существует ли зависимость между вероятностью оплаты вопросов и количеством обучений, которые начинал или завершал пользователь. \n",
        "\n",
        "3. Выяснить, как часто пользователи начинают обучение после выбора уровня сложности. (Это позволит оценить прозрачность процесса взаимодействия с игрой: если пользователи после выбора уровня сложности обращаются к обучению, значит, работа с приложением непонятна.)"
      ],
      "metadata": {
        "id": "Oevjjnnf6eM4"
      }
    },
    {
      "cell_type": "code",
      "source": [
        "import pandas as pd\n",
        "import matplotlib.pyplot as plt\n",
        "import numpy as np\n",
        "#считываем базовые файлы\n",
        "df = pd.read_csv('7_4_Events.csv', sep=',')\n",
        "df2 = pd.read_csv('purchase.csv', sep=',')\n",
        "\n",
        "\n",
        "#оставляем лишь тех пользователей, кто регистрировался в 2018 году\n",
        "cond = (df.start_time>='2018-01-01') & (df.start_time<'2019-01-01') & (df.event_type=='registration')\n",
        "registered = df[cond]['user_id'].to_list()\n",
        "events = df[df.user_id.isin(registered)]\n",
        "\n",
        "#преобразуем формат дат\n",
        "events.start_time = pd.to_datetime(events.start_time, format='%Y-%m-%dT%H:%M:%S')\n",
        "df2['event_datetime'] = pd.to_datetime(df2['event_datetime'])"
      ],
      "metadata": {
        "colab": {
          "base_uri": "https://localhost:8080/"
        },
        "id": "Ncz6gFAZ6jCo",
        "outputId": "de92f480-0c77-4c78-9f7e-b8f4b431175d"
      },
      "execution_count": null,
      "outputs": [
        {
          "output_type": "stream",
          "name": "stderr",
          "text": [
            "/usr/local/lib/python3.7/dist-packages/pandas/core/generic.py:5516: SettingWithCopyWarning: \n",
            "A value is trying to be set on a copy of a slice from a DataFrame.\n",
            "Try using .loc[row_indexer,col_indexer] = value instead\n",
            "\n",
            "See the caveats in the documentation: https://pandas.pydata.org/pandas-docs/stable/user_guide/indexing.html#returning-a-view-versus-a-copy\n",
            "  self[name] = value\n"
          ]
        }
      ]
    },
    {
      "cell_type": "markdown",
      "source": [
        "<font size = 5>Первая задача: \n",
        "<font size = 3>Необходимо сравнить время прохождения различных этапов для пользователей, которые завершили обучение, и пользователей, не начинавших обучение. Если показатель отличается, выяснить, насколько.\n"
      ],
      "metadata": {
        "id": "by26KbNYDxaY"
      }
    },
    {
      "cell_type": "code",
      "source": [
        "# Формируем группу пользователей, прошедших обучение \n",
        "finished_tutorial_users = events[events['event_type'] == 'tutorial_finish']['user_id'].unique()\n",
        "# Создаем группу пользователей, не начинавших обучение\n",
        "all_users = set(events['user_id'])\n",
        "tutorial_start_users = set(events[(events['event_type'] == 'tutorial_start')]['user_id'])\n",
        "without_tutorial_users = all_users.difference(tutorial_start_users)\n",
        "\n",
        "# Выделяем df с типом события registration, отбираем пользователей, которые прошли обучение.\n",
        "finished_tutorial = events[events['user_id'].isin(finished_tutorial_users)]\n",
        "registration = finished_tutorial[finished_tutorial['event_type'] == 'registration']\n",
        "# Для удобства оставляем необходимые столбцы и переименовываем столбец с временем \n",
        "registration = registration[['user_id', 'start_time']].rename(columns={'start_time':'registration_time'})\n",
        "\n",
        "# То же самое проделываем с событием purchase.\n",
        "\n",
        "purchase_choice = df2[['user_id', 'event_datetime']].rename(columns={'event_datetime':'purchase_time'})\n",
        "# Объединяем две получившиеся таблицы. Создаем столбец timedelta. И вычисляем разницу во времени между событиями. \n",
        "merged = registration.merge(purchase_choice, on= 'user_id', how= 'inner')\n",
        "merged['timedelta'] = (merged['purchase_time'] - merged['registration_time'])\n",
        "print(merged['timedelta'].describe())\n",
        "\n",
        "#тоже самое делаем с пользователями, которые не начинали обучение\n",
        "without_tutorial = events[events['user_id'].isin(without_tutorial_users)]\n",
        "registration_1 = without_tutorial[without_tutorial['event_type'] == 'registration']\n",
        "registration_1 = registration_1[['user_id', 'start_time']].rename(columns={'start_time':'registration_time'})\n",
        "\n",
        "\n",
        "purchase_choice_1 = df2[['user_id', 'event_datetime']].rename(columns={'event_datetime':'purchase_time'})\n",
        "\n",
        "merged_2 = registration_1.merge(purchase_choice_1, on= 'user_id', how= 'inner')\n",
        "merged_2['timedelta'] = (merged_2['purchase_time'] - merged_2['registration_time'])\n",
        "print(merged_2['timedelta'].describe())\n"
      ],
      "metadata": {
        "colab": {
          "base_uri": "https://localhost:8080/"
        },
        "id": "d4nlWfmUD0CV",
        "outputId": "8272b492-e94f-4d50-e8ac-6411dfa99ff9"
      },
      "execution_count": null,
      "outputs": [
        {
          "output_type": "stream",
          "name": "stdout",
          "text": [
            "count                         1447\n",
            "mean     4 days 00:30:03.247408431\n",
            "std      2 days 04:47:29.946150698\n",
            "min                0 days 04:36:58\n",
            "25%                2 days 04:09:55\n",
            "50%                3 days 19:04:59\n",
            "75%                5 days 15:46:14\n",
            "max               11 days 00:35:04\n",
            "Name: timedelta, dtype: object\n",
            "count                           22\n",
            "mean     4 days 09:06:01.909090909\n",
            "std      2 days 05:12:16.748091626\n",
            "min                0 days 09:59:07\n",
            "25%                2 days 21:31:31\n",
            "50%                4 days 11:29:09\n",
            "75%         6 days 02:28:47.750000\n",
            "max                7 days 16:46:20\n",
            "Name: timedelta, dtype: object\n"
          ]
        }
      ]
    },
    {
      "cell_type": "code",
      "source": [
        "time_with_tutorial = merged.copy()\n",
        "time_with_tutorial['timedelta'] = time_with_tutorial['timedelta']/pd.Timedelta('1 hour')\n",
        "time_without_tutorial = merged_2.copy()\n",
        "time_without_tutorial['timedelta'] = time_without_tutorial['timedelta']/pd.Timedelta('1 hour')\n",
        "print('Cреднее время между регистрацией и оплатой пользователеми, которые завершили обучение:',round(time_with_tutorial['timedelta'].mean(),2)) \n",
        "print('Cреднее время между регистрацией и оплатой пользователем, которые даже не начинали обучение:',round(time_without_tutorial['timedelta'].mean(),2)) \n",
        "a = time_with_tutorial['timedelta'].mean()\n",
        "b = time_without_tutorial['timedelta'].mean()\n",
        "c = [a,b]\n",
        "d = ['Пользователи, которые завершили обучение', 'Пользователи, которые даже не начинали обучение']\n",
        "timedelta_mean = time_without_tutorial['timedelta'].mean() - time_with_tutorial['timedelta'].mean()\n",
        "print('Разница между средним временем:',round(timedelta_mean,2)) #разница \n"
      ],
      "metadata": {
        "colab": {
          "base_uri": "https://localhost:8080/"
        },
        "id": "VAwD--FLD3hG",
        "outputId": "dba09a56-d28f-4860-dd6d-ce64ad9b3f41"
      },
      "execution_count": null,
      "outputs": [
        {
          "output_type": "stream",
          "name": "stdout",
          "text": [
            "Cреднее время между регистрацией и оплатой пользователеми, которые завершили обучение: 96.5\n",
            "Cреднее время между регистрацией и оплатой пользователем, которые даже не начинали обучение: 105.1\n",
            "Разница между средним временем: 8.6\n"
          ]
        }
      ]
    },
    {
      "cell_type": "code",
      "source": [
        "\n",
        "#визуализация главного графика\n",
        "fig = plt.figure(figsize=(9,5))\n",
        "ax = fig.add_axes([0, 0, 1, 1])\n",
        "color_rectangle = np.random.rand(7, 3)\n",
        "ax.bar(d,c, color = color_rectangle)\n",
        "ax.set_ylabel('Среднее время в часах')\n",
        "ax.set_title('Среднее время прохождения между регистрацией и оплатой группой пользователей')\n"
      ],
      "metadata": {
        "colab": {
          "base_uri": "https://localhost:8080/",
          "height": 441
        },
        "id": "A_Lyvc4vD8ZG",
        "outputId": "052e2ed8-b049-4b0d-95fd-7879f15167b1"
      },
      "execution_count": null,
      "outputs": [
        {
          "output_type": "execute_result",
          "data": {
            "text/plain": [
              "Text(0.5, 1.0, 'Среднее время прохождения между регистрацией и оплатой группой пользователей')"
            ]
          },
          "metadata": {},
          "execution_count": 10
        },
        {
          "output_type": "display_data",
          "data": {
            "image/png": "[encoded data removed]",
            "text/plain": [
              "<Figure size 648x360 with 1 Axes>"
            ]
          },
          "metadata": {
            "needs_background": "light"
          }
        }
      ]
    },
    {
      "cell_type": "markdown",
      "source": [
        "<font size = 5>Вывод по первой задаче: \n",
        "\n",
        "<font size = 3>Мы видим, что среднее время между регистрацией и оплатой пользователями, которые не начинали обучение, на 8.5 часов больше у пользователей, которые завершили обучение. Из этого следует вывод, что обучение влияет на время прохождения различных этапов пользователей."
      ],
      "metadata": {
        "id": "q0UiV8-1EAhO"
      }
    },
    {
      "cell_type": "markdown",
      "source": [
        "<font size = 5>Вторая задача: \n",
        "<font size = 3>Проверить, существует ли зависимость между вероятностью оплаты вопросов и количеством обучений, которые начинал или завершал пользователь. "
      ],
      "metadata": {
        "id": "X_MS3ym3EBRd"
      }
    },
    {
      "cell_type": "code",
      "source": [
        "#копируем таблицу для удобства работы\n",
        "events_2 = events.copy()\n",
        "#считаем юзеров, начинавшие обучение\n",
        "group_by_count_tutorial_start = events_2[events_2['event_type'] == 'tutorial_start']\n",
        "#считаем сколько попыток начать обучение совершил пользователь\n",
        "users_in_group = group_by_count_tutorial_start.groupby('user_id').count()\n",
        "#группируем пользователей по кол-ву обучений\n",
        "users_in_group = users_in_group.groupby('tutorial_id').count()\n",
        "#убираем лишние столбцы и переименовываем\n",
        "users_in_group = users_in_group[['start_time']].rename(columns={'start_time':'count_start_tutorial'})\n",
        "#добавляем столбец индекса, чтобы удобнее было объединять таблицы\n",
        "users_in_group.reset_index(level=0, inplace=True) \n",
        "#переименовываем столбец, где хранятся группы по кол-ву обучений\n",
        "users_in_group = users_in_group.rename(columns={'tutorial_id':'group_by_tutorial'})\n",
        "#объединяем таблицы, чтобы посмотреть оплаты по пользователям, которые проходили обучение\n",
        "merge_purchase = df2.merge(group_by_count_tutorial_start, on='user_id', how='left')\n",
        "#считаем сколько попыток начать обучение совершил оплативший пользователь\n",
        "merge_purchase = merge_purchase.groupby('user_id').count()\n",
        "#группируем оплативших пользователей по кол-ву обучений\n",
        "merge_purchase = merge_purchase.groupby('event_type').count()\n",
        "#убираем лишние столбцы и переименовываем\n",
        "merge_purchase= merge_purchase[['selected_level']].rename(columns={'selected_level':'count_purchase'})\n",
        "#добавляем столбец индекса, чтобы удобнее было объединять таблицы\n",
        "merge_purchase.reset_index(level=0, inplace=True) \n",
        "#переименовываем столбец, где хранятся группы по кол-ву обучений\n",
        "merge_purchase = merge_purchase.rename(columns={'event_type':'group_by_tutorial'})\n",
        "#объединяем датафреймы, чтобы посчитать проценты\n",
        "merge_total = users_in_group.merge(merge_purchase, on='group_by_tutorial', how='left')\n",
        "#считаем процент оплативших по кол-ву обучений\n",
        "merge_total['percent_purchase'] = (merge_total['count_purchase'] / merge_total['count_start_tutorial'] * 100).round(2)\n",
        "display(merge_total)\n"
      ],
      "metadata": {
        "colab": {
          "base_uri": "https://localhost:8080/",
          "height": 332
        },
        "id": "Oq1ehzymEDQA",
        "outputId": "d1e89e2e-0d58-44c1-dc4d-bc0a79451cea"
      },
      "execution_count": null,
      "outputs": [
        {
          "output_type": "display_data",
          "data": {
            "text/html": [
              "\n",
              "  <div id=\"df-9aa07561-583c-4397-ac68-19ae2de2bb87\">\n",
              "    <div class=\"colab-df-container\">\n",
              "      <div>\n",
              "<style scoped>\n",
              "    .dataframe tbody tr th:only-of-type {\n",
              "        vertical-align: middle;\n",
              "    }\n",
              "\n",
              "    .dataframe tbody tr th {\n",
              "        vertical-align: top;\n",
              "    }\n",
              "\n",
              "    .dataframe thead th {\n",
              "        text-align: right;\n",
              "    }\n",
              "</style>\n",
              "<table border=\"1\" class=\"dataframe\">\n",
              "  <thead>\n",
              "    <tr style=\"text-align: right;\">\n",
              "      <th></th>\n",
              "      <th>group_by_tutorial</th>\n",
              "      <th>count_start_tutorial</th>\n",
              "      <th>count_purchase</th>\n",
              "      <th>percent_purchase</th>\n",
              "    </tr>\n",
              "  </thead>\n",
              "  <tbody>\n",
              "    <tr>\n",
              "      <th>0</th>\n",
              "      <td>1</td>\n",
              "      <td>9103</td>\n",
              "      <td>1207</td>\n",
              "      <td>13.26</td>\n",
              "    </tr>\n",
              "    <tr>\n",
              "      <th>1</th>\n",
              "      <td>2</td>\n",
              "      <td>1589</td>\n",
              "      <td>218</td>\n",
              "      <td>13.72</td>\n",
              "    </tr>\n",
              "    <tr>\n",
              "      <th>2</th>\n",
              "      <td>3</td>\n",
              "      <td>427</td>\n",
              "      <td>51</td>\n",
              "      <td>11.94</td>\n",
              "    </tr>\n",
              "    <tr>\n",
              "      <th>3</th>\n",
              "      <td>4</td>\n",
              "      <td>221</td>\n",
              "      <td>30</td>\n",
              "      <td>13.57</td>\n",
              "    </tr>\n",
              "    <tr>\n",
              "      <th>4</th>\n",
              "      <td>5</td>\n",
              "      <td>109</td>\n",
              "      <td>16</td>\n",
              "      <td>14.68</td>\n",
              "    </tr>\n",
              "    <tr>\n",
              "      <th>5</th>\n",
              "      <td>6</td>\n",
              "      <td>116</td>\n",
              "      <td>14</td>\n",
              "      <td>12.07</td>\n",
              "    </tr>\n",
              "    <tr>\n",
              "      <th>6</th>\n",
              "      <td>7</td>\n",
              "      <td>94</td>\n",
              "      <td>12</td>\n",
              "      <td>12.77</td>\n",
              "    </tr>\n",
              "    <tr>\n",
              "      <th>7</th>\n",
              "      <td>8</td>\n",
              "      <td>86</td>\n",
              "      <td>13</td>\n",
              "      <td>15.12</td>\n",
              "    </tr>\n",
              "    <tr>\n",
              "      <th>8</th>\n",
              "      <td>9</td>\n",
              "      <td>113</td>\n",
              "      <td>17</td>\n",
              "      <td>15.04</td>\n",
              "    </tr>\n",
              "  </tbody>\n",
              "</table>\n",
              "</div>\n",
              "      <button class=\"colab-df-convert\" onclick=\"convertToInteractive('df-9aa07561-583c-4397-ac68-19ae2de2bb87')\"\n",
              "              title=\"Convert this dataframe to an interactive table.\"\n",
              "              style=\"display:none;\">\n",
              "        \n",
              "  <svg xmlns=\"http://www.w3.org/2000/svg\" height=\"24px\"viewBox=\"0 0 24 24\"\n",
              "       width=\"24px\">\n",
              "    <path d=\"M0 0h24v24H0V0z\" fill=\"none\"/>\n",
              "    <path d=\"M18.56 5.44l.94 2.06.94-2.06 2.06-.94-2.06-.94-.94-2.06-.94 2.06-2.06.94zm-11 1L8.5 8.5l.94-2.06 2.06-.94-2.06-.94L8.5 2.5l-.94 2.06-2.06.94zm10 10l.94 2.06.94-2.06 2.06-.94-2.06-.94-.94-2.06-.94 2.06-2.06.94z\"/><path d=\"M17.41 7.96l-1.37-1.37c-.4-.4-.92-.59-1.43-.59-.52 0-1.04.2-1.43.59L10.3 9.45l-7.72 7.72c-.78.78-.78 2.05 0 2.83L4 21.41c.39.39.9.59 1.41.59.51 0 1.02-.2 1.41-.59l7.78-7.78 2.81-2.81c.8-.78.8-2.07 0-2.86zM5.41 20L4 18.59l7.72-7.72 1.47 1.35L5.41 20z\"/>\n",
              "  </svg>\n",
              "      </button>\n",
              "      \n",
              "  <style>\n",
              "    .colab-df-container {\n",
              "      display:flex;\n",
              "      flex-wrap:wrap;\n",
              "      gap: 12px;\n",
              "    }\n",
              "\n",
              "    .colab-df-convert {\n",
              "      background-color: #E8F0FE;\n",
              "      border: none;\n",
              "      border-radius: 50%;\n",
              "      cursor: pointer;\n",
              "      display: none;\n",
              "      fill: #1967D2;\n",
              "      height: 32px;\n",
              "      padding: 0 0 0 0;\n",
              "      width: 32px;\n",
              "    }\n",
              "\n",
              "    .colab-df-convert:hover {\n",
              "      background-color: #E2EBFA;\n",
              "      box-shadow: 0px 1px 2px rgba(60, 64, 67, 0.3), 0px 1px 3px 1px rgba(60, 64, 67, 0.15);\n",
              "      fill: #174EA6;\n",
              "    }\n",
              "\n",
              "    [theme=dark] .colab-df-convert {\n",
              "      background-color: #3B4455;\n",
              "      fill: #D2E3FC;\n",
              "    }\n",
              "\n",
              "    [theme=dark] .colab-df-convert:hover {\n",
              "      background-color: #434B5C;\n",
              "      box-shadow: 0px 1px 3px 1px rgba(0, 0, 0, 0.15);\n",
              "      filter: drop-shadow(0px 1px 2px rgba(0, 0, 0, 0.3));\n",
              "      fill: #FFFFFF;\n",
              "    }\n",
              "  </style>\n",
              "\n",
              "      <script>\n",
              "        const buttonEl =\n",
              "          document.querySelector('#df-9aa07561-583c-4397-ac68-19ae2de2bb87 button.colab-df-convert');\n",
              "        buttonEl.style.display =\n",
              "          google.colab.kernel.accessAllowed ? 'block' : 'none';\n",
              "\n",
              "        async function convertToInteractive(key) {\n",
              "          const element = document.querySelector('#df-9aa07561-583c-4397-ac68-19ae2de2bb87');\n",
              "          const dataTable =\n",
              "            await google.colab.kernel.invokeFunction('convertToInteractive',\n",
              "                                                     [key], {});\n",
              "          if (!dataTable) return;\n",
              "\n",
              "          const docLinkHtml = 'Like what you see? Visit the ' +\n",
              "            '<a target=\"_blank\" href=https://colab.research.google.com/notebooks/data_table.ipynb>data table notebook</a>'\n",
              "            + ' to learn more about interactive tables.';\n",
              "          element.innerHTML = '';\n",
              "          dataTable['output_type'] = 'display_data';\n",
              "          await google.colab.output.renderOutput(dataTable, element);\n",
              "          const docLink = document.createElement('div');\n",
              "          docLink.innerHTML = docLinkHtml;\n",
              "          element.appendChild(docLink);\n",
              "        }\n",
              "      </script>\n",
              "    </div>\n",
              "  </div>\n",
              "  "
            ],
            "text/plain": [
              "   group_by_tutorial  count_start_tutorial  count_purchase  percent_purchase\n",
              "0                  1                  9103            1207             13.26\n",
              "1                  2                  1589             218             13.72\n",
              "2                  3                   427              51             11.94\n",
              "3                  4                   221              30             13.57\n",
              "4                  5                   109              16             14.68\n",
              "5                  6                   116              14             12.07\n",
              "6                  7                    94              12             12.77\n",
              "7                  8                    86              13             15.12\n",
              "8                  9                   113              17             15.04"
            ]
          },
          "metadata": {}
        }
      ]
    },
    {
      "cell_type": "markdown",
      "source": [
        "На основании этих данных строим график:"
      ],
      "metadata": {
        "id": "dgUQ4NqYEIpd"
      }
    },
    {
      "cell_type": "code",
      "source": [
        "fig_2 = plt.figure(figsize=(15,5))\n",
        "ax_2 = fig_2.add_axes([0, 0, 1, 1])\n",
        "color_rectangle = np.random.rand(10, 3)\n",
        "ax_2.bar(merge_total['group_by_tutorial'],merge_total['percent_purchase'], color = color_rectangle)\n",
        "ax_2.set_ylabel('Процент оплативших, %')\n",
        "ax_2.set_title('График зависимости между вероятностью оплаты и количеством обучений')"
      ],
      "metadata": {
        "colab": {
          "base_uri": "https://localhost:8080/",
          "height": 441
        },
        "id": "kKY73fz-EJ1N",
        "outputId": "3e7ce4ed-3543-484c-ebef-a314a2adc025"
      },
      "execution_count": null,
      "outputs": [
        {
          "output_type": "execute_result",
          "data": {
            "text/plain": [
              "Text(0.5, 1.0, 'График зависимости между вероятностью оплаты и количеством обучений')"
            ]
          },
          "metadata": {},
          "execution_count": 12
        },
        {
          "output_type": "display_data",
          "data": {
            "image/png": "[encoded data removed]",
            "text/plain": [
              "<Figure size 1080x360 with 1 Axes>"
            ]
          },
          "metadata": {
            "needs_background": "light"
          }
        }
      ]
    },
    {
      "cell_type": "markdown",
      "source": [
        "<font size = 5>Вывод по второй задаче: \n",
        "\n",
        "<font size = 3>Мы видим, что процент оплативших пользователей в зависимости от кол-ва обучений не сильно отличается, следовательно, можно сделать вывод, что никакой зависимости между вероятностью оплаты и количеством обучений нет."
      ],
      "metadata": {
        "id": "KUXfheY9EPb9"
      }
    },
    {
      "cell_type": "markdown",
      "source": [
        "<font size = 5>Третья задача: \n",
        "<font size = 3>Выяснить, как часто пользователи начинают обучение после выбора уровня сложности. (Это позволит оценить прозрачность процесса взаимодействия с игрой: если пользователи после выбора уровня сложности обращаются к обучению, значит, работа с приложением непонятна.)"
      ],
      "metadata": {
        "id": "ktQswPxBEQUd"
      }
    },
    {
      "cell_type": "code",
      "source": [
        "#отделяем пользователей, которые выбирали уровень сложности\n",
        "level_choice = events_2[events_2['event_type'] == 'level_choice']\n",
        "#посчитаем пользователей, выбравших уровень сложности\n",
        "ev_count = events_2[events_2['event_type'] == 'level_choice']['user_id'].nunique()\n",
        "print('Количество пользователей, выбравших уровень сложности:',ev_count)\n",
        "#оставляем нужные столбцы и переименовываем их\n",
        "level_choice = level_choice[['start_time','user_id']].rename(columns={'start_time':'level_time_choice'})\n",
        "#отделяем пользователей, начинавшие обучение\n",
        "tutorial_start = events_2[events_2['event_type'] == 'tutorial_start']\n",
        "#оставляем нужные столбцы и переименовываем их\n",
        "tutorial_start = tutorial_start[['start_time','user_id']].rename(columns={'start_time':'start_tutorial_time'})\n",
        "#объединяем датафреймы\n",
        "merge_total_2 = level_choice.merge(tutorial_start, on='user_id', how='left')\n",
        "#считаем разницу во времени между началом обучения и выбором уровня сложности\n",
        "merge_total_2['delta'] = (merge_total_2['start_tutorial_time'] - merge_total_2['level_time_choice'])/pd.Timedelta('1 hour')\n",
        "#посчитаем пользователей, которые начали обучение после выбора уровня сложности\n",
        "merge_total_2 = merge_total_2[merge_total_2['delta'] > 0]['user_id'].nunique()\n",
        "print('Количество пользователей, которые начали обучение после выбора уровня сложности:',merge_total_2)\n",
        "print('Доля пользователей, которые обратились к обучению после выбора уровня:',round(merge_total_2/ev_count*100,2),'%')"
      ],
      "metadata": {
        "colab": {
          "base_uri": "https://localhost:8080/"
        },
        "id": "jNTGGXLcESO2",
        "outputId": "589b61df-58cb-4226-f5e5-c34c06f76faa"
      },
      "execution_count": null,
      "outputs": [
        {
          "output_type": "stream",
          "name": "stdout",
          "text": [
            "Количество пользователей, выбравших уровень сложности: 8342\n",
            "Количество пользователей, которые начали обучение после выбора уровня сложности: 1386\n",
            "Доля пользователей, которые обратились к обучению после выбора уровня: 16.61 %\n"
          ]
        }
      ]
    },
    {
      "cell_type": "markdown",
      "source": [
        "<font size = 5>Вывод по третьей задаче: \n",
        "\n",
        "<font size = 3>Мы видим, что доля пользователей, которые обратились к обучению после выбора уровня составляет меньше 17%. Из этого можно сделать вывод, что у большинства пользователей, выбравших уровень сложности, не возникает никаких непонятных моментов."
      ],
      "metadata": {
        "id": "PcfHShTPEWm-"
      }
    }
  ]
}